{
 "cells": [
  {
   "cell_type": "code",
   "execution_count": 7,
   "metadata": {},
   "outputs": [],
   "source": [
    "import pandas as pd\n",
    "df = pd.read_csv('5000_rows.csv', sep=\"\\t\", error_bad_lines=False)"
   ]
  },
  {
   "cell_type": "code",
   "execution_count": 8,
   "metadata": {},
   "outputs": [
    {
     "data": {
      "text/plain": [
       "{'2006': 541,\n",
       " '2007': 637,\n",
       " '2012': 808,\n",
       " '2011': 867,\n",
       " '2010': 761,\n",
       " '2009': 704,\n",
       " '2008': 674}"
      ]
     },
     "execution_count": 8,
     "metadata": {},
     "output_type": "execute_result"
    }
   ],
   "source": [
    "year_dict = {}\n",
    "for i in range(df.shape[0]):\n",
    "    if str(df.iloc[i, 30])[-4:] not in year_dict:\n",
    "        year_dict[str(df.iloc[i, 30])[-4:]] = 0\n",
    "    else:\n",
    "        year_dict[str(df.iloc[i, 30])[-4:]] += 1\n",
    "year_dict"
   ]
  },
  {
   "cell_type": "code",
   "execution_count": 10,
   "metadata": {},
   "outputs": [
    {
     "name": "stdout",
     "output_type": "stream",
     "text": [
      "[CALCULATED]. Number of rows for 2006 :  19324306\n",
      "[CALCULATED]. Number of rows for 2007 :  22753388\n",
      "[CALCULATED]. Number of rows for 2008 :  24075013\n",
      "[CALCULATED]. Number of rows for 2009 :  25146602\n",
      "[CALCULATED]. Number of rows for 2010 :  27182619\n",
      "[CALCULATED]. Number of rows for 2011 :  30968897\n",
      "[CALCULATED]. Number of rows for 2012 :  28861441\n",
      "\n",
      "[CALCULATED]. Total number of rows :  178312266\n",
      "[ACTUAL]. Total number of rows :  178598026\n"
     ]
    }
   ],
   "source": [
    "part_rows = 5000\n",
    "total_rows = 178598026\n",
    "rows_2006 = int((float(year_dict['2006'])/part_rows)*total_rows)\n",
    "rows_2007 = int((float(year_dict['2007'])/part_rows)*total_rows)\n",
    "rows_2008 = int((float(year_dict['2008'])/part_rows)*total_rows)\n",
    "rows_2009 = int((float(year_dict['2009'])/part_rows)*total_rows)\n",
    "rows_2010 = int((float(year_dict['2010'])/part_rows)*total_rows)\n",
    "rows_2011 = int((float(year_dict['2011'])/part_rows)*total_rows)\n",
    "rows_2012 = int((float(year_dict['2012'])/part_rows)*total_rows)\n",
    "print(\"[CALCULATED]. Number of rows for 2006 : \", rows_2006)\n",
    "print(\"[CALCULATED]. Number of rows for 2007 : \", rows_2007)\n",
    "print(\"[CALCULATED]. Number of rows for 2008 : \", rows_2008)\n",
    "print(\"[CALCULATED]. Number of rows for 2009 : \", rows_2009)\n",
    "print(\"[CALCULATED]. Number of rows for 2010 : \", rows_2010)\n",
    "print(\"[CALCULATED]. Number of rows for 2011 : \", rows_2011)\n",
    "print(\"[CALCULATED]. Number of rows for 2012 : \", rows_2012)\n",
    "print(\"\\n[CALCULATED]. Total number of rows : \", rows_2006 + rows_2007 + rows_2008 + rows_2009 + rows_2010 + rows_2011 + rows_2012)\n",
    "print(\"[ACTUAL]. Total number of rows : \", total_rows)"
   ]
  }
 ],
 "metadata": {
  "kernelspec": {
   "display_name": "Python 3.6.9 64-bit",
   "language": "python",
   "name": "python3"
  },
  "language_info": {
   "codemirror_mode": {
    "name": "ipython",
    "version": 3
   },
   "file_extension": ".py",
   "mimetype": "text/x-python",
   "name": "python",
   "nbconvert_exporter": "python",
   "pygments_lexer": "ipython3",
   "version": "3.6.9"
  },
  "orig_nbformat": 4,
  "vscode": {
   "interpreter": {
    "hash": "31f2aee4e71d21fbe5cf8b01ff0e069b9275f58929596ceb00d14d90e3e16cd6"
   }
  }
 },
 "nbformat": 4,
 "nbformat_minor": 2
}
